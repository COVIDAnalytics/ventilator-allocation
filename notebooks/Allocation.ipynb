{
 "cells": [
  {
   "cell_type": "code",
   "execution_count": null,
   "metadata": {},
   "outputs": [],
   "source": [
    "using Interact"
   ]
  },
  {
   "cell_type": "code",
   "execution_count": null,
   "metadata": {},
   "outputs": [],
   "source": [
    "using CSV, DataFrames\n",
    "using Plots"
   ]
  },
  {
   "cell_type": "code",
   "execution_count": null,
   "metadata": {},
   "outputs": [],
   "source": [
    "jhu_data = CSV.read(\"jhu-data.csv\")\n",
    "jhu_data = filter(row -> row[Symbol(\"Country/Region\")] == \"China\", jhu_data)\n",
    "cols = setdiff(names(jhu_data), [Symbol(\"Province/State\"), Symbol(\"Country/Region\"), :Lat, :Long])\n",
    "jhu_data = filter(row -> row[Symbol(\"Province/State\")] != \"Hubei\", jhu_data)\n",
    "jhu_data = convert(Matrix, jhu_data[!, cols])'\n",
    "new_cases = zeros(size(jhu_data))\n",
    "K = 10\n",
    "for i = 1:size(jhu_data, 1)\n",
    "    new_cases[i, :] = jhu_data[i, :] .- (i > K ? jhu_data[i-K, :] : zeros(size(jhu_data, 2)))\n",
    "end"
   ]
  },
  {
   "cell_type": "code",
   "execution_count": null,
   "metadata": {},
   "outputs": [],
   "source": [
    "plot(new_cases, label=\"\")\n",
    "# conclusion: the curves look roughly normal?"
   ]
  },
  {
   "cell_type": "code",
   "execution_count": null,
   "metadata": {},
   "outputs": [],
   "source": [
    "peak1 = 30\n",
    "peak2 = 50\n",
    "width1 = 20\n",
    "width2 = 30\n",
    "height1 = 1000\n",
    "height2 = 800\n",
    "days = collect(0:99)\n",
    "h1 = height1 * exp.(-(days .- peak1) .^ 2 / (2 * width1 ^ 2))\n",
    "h2 = height2 * exp.(-(days .- peak2) .^ 2 / (2 * width2 ^ 2))"
   ]
  },
  {
   "cell_type": "code",
   "execution_count": null,
   "metadata": {},
   "outputs": [],
   "source": [
    "plot(days, [h1, h2])"
   ]
  },
  {
   "cell_type": "code",
   "execution_count": null,
   "metadata": {},
   "outputs": [],
   "source": [
    "using JuMP, Gurobi"
   ]
  },
  {
   "cell_type": "code",
   "execution_count": null,
   "metadata": {},
   "outputs": [],
   "source": [
    "function allocate_ventilators(days, h1, h2, env = Gurobi.Env(); K::Int = 1000, quad::Bool=false,\n",
    "                              traveldelay::Int=1)\n",
    "    model = Model(solver=GurobiSolver(env; OutputFlag=0, TimeLimit=10))\n",
    "    @variable(model, x1[days] >= 0)\n",
    "    @variable(model, x2[days] >= 0)\n",
    "    @variable(model, travel12[days] >= 0)\n",
    "    @variable(model, travel21[days] >= 0)\n",
    "    @variable(model, diff1[days] >= 0)\n",
    "    @variable(model, diff2[days] >= 0)\n",
    "    @constraint(model, x1[days[1]] + x2[days[1]] == K)\n",
    "    @constraint(model, [d = days[2:end]], x1[d] + x2[d] <= K)\n",
    "    @constraint(model, travel12[days[1]] == 0)\n",
    "    @constraint(model, travel21[days[1]] == 0)\n",
    "    @constraint(model, [d = 2:length(days)],\n",
    "                x1[days[d]] == x1[days[d-1]] - travel12[days[d]] +\n",
    "                (d - traveldelay > 0 ? travel21[days[d-traveldelay]] : 0))\n",
    "#     @constraint(model, [d = 2:length(days)],\n",
    "#                 x1[days[d]] == x1[days[d-1]] - travel12[days[d]] + travel21[days[d-1]])\n",
    "    @constraint(model, [d = 2:length(days)],\n",
    "                x2[days[d]] == x2[days[d-1]] - travel21[days[d]] +\n",
    "                (d - traveldelay > 0 ? travel12[days[d-traveldelay]] : 0))\n",
    "    @constraint(model, [(i, d) = enumerate(days)],\n",
    "                diff1[d] >= h1[i] - x1[d])\n",
    "    @constraint(model, [(i, d) = enumerate(days)],\n",
    "                diff2[d] >= h2[i] - x2[d])\n",
    "    if quad\n",
    "        @objective(model, Min, sum(diff1[d]^2 for d in days) + sum(diff2[d]^2 for d in days))\n",
    "    else\n",
    "        @objective(model, Min, sum(diff1[d] for d in days) + sum(diff2[d] for d in days))\n",
    "    end\n",
    "    solve(model)\n",
    "#     @show [getvalue(travel12[d]) for d in days]\n",
    "#     @show [getvalue(travel21[d]) for d in days]\n",
    "    return [getvalue(x1[d]) for d in days], [getvalue(x2[d]) for d in days]\n",
    "end"
   ]
  },
  {
   "cell_type": "code",
   "execution_count": null,
   "metadata": {},
   "outputs": [],
   "source": [
    "x1, x2 = allocate_ventilators(days, h1, h2, traveldelay=2)"
   ]
  },
  {
   "cell_type": "code",
   "execution_count": null,
   "metadata": {},
   "outputs": [],
   "source": [
    "plot(days, [min.(x1, h1) min.(x2, h2) h1 h2])"
   ]
  },
  {
   "cell_type": "code",
   "execution_count": null,
   "metadata": {},
   "outputs": [],
   "source": [
    "x1[26:28]"
   ]
  },
  {
   "cell_type": "code",
   "execution_count": null,
   "metadata": {},
   "outputs": [],
   "source": [
    "x2[26:28]"
   ]
  },
  {
   "cell_type": "markdown",
   "metadata": {},
   "source": [
    "# Manipulating parameters"
   ]
  },
  {
   "cell_type": "code",
   "execution_count": null,
   "metadata": {},
   "outputs": [],
   "source": [
    "env = Gurobi.Env()"
   ]
  },
  {
   "cell_type": "code",
   "execution_count": null,
   "metadata": {},
   "outputs": [],
   "source": [
    "@manipulate for peak1 in range(20, 60, step=2), peak2 in range(20, 60, step=2),\n",
    "                width1 in range(10,40,step=1), width2 in range(10,40,step=1),\n",
    "                height1 in range(800,1200, step=100), height2 in range(800,1200,step=100),\n",
    "                K in range(100,1000,step=100), traveldelay in 1:10, quadratic in [true, false]\n",
    "    days = collect(0:99)\n",
    "    h1 = height1 * exp.(-(days .- peak1) .^ 2 / (2 * width1 ^ 2))\n",
    "    h2 = height2 * exp.(-(days .- peak2) .^ 2 / (2 * width2 ^ 2))\n",
    "    x1, x2 = allocate_ventilators(days, h1, h2, env, K=K, quad=quadratic, traveldelay =traveldelay)\n",
    "    plot(days, [min.(x1, h1) min.(x2, h2)], lw=3, ls=:dot, lc=[:blue :red], label=[\"Ventilators H1\", \"Ventilators H2\"])\n",
    "    plot!(days, [h1 h2], lw=3, ls=:dash, lc=[:blue :red], label=[\"H1 Demand\" \"H2 Demand\"])\n",
    "end"
   ]
  },
  {
   "cell_type": "code",
   "execution_count": null,
   "metadata": {},
   "outputs": [],
   "source": []
  }
 ],
 "metadata": {
  "@webio": {
   "lastCommId": null,
   "lastKernelId": null
  },
  "kernelspec": {
   "display_name": "Julia 1.1.0",
   "language": "julia",
   "name": "julia-1.1"
  },
  "language_info": {
   "file_extension": ".jl",
   "mimetype": "application/julia",
   "name": "julia",
   "version": "1.1.0"
  }
 },
 "nbformat": 4,
 "nbformat_minor": 4
}
